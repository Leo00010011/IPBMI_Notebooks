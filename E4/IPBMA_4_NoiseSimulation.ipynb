{
 "cells": [
  {
   "cell_type": "markdown",
   "metadata": {},
   "source": [
    "# IPBMA_4:Visibility of a nodule inside a noisy image\n",
    "\n",
    "### Author: Liu Cong and Ulloa Ferrer,Leonardo"
   ]
  },
  {
   "cell_type": "code",
   "execution_count": 84,
   "metadata": {},
   "outputs": [],
   "source": [
    "import numpy as np\n",
    "import matplotlib.pyplot as plt\n",
    "import sys, os\n",
    "auxFnc = os.path.join(sys.path[0], 'auxFiles', 'auxFnc.py')\n",
    "phantomsFncnc = os.path.join(sys.path[0], 'auxFiles', 'phantomsFnc.py')\n",
    "IOFnc = os.path.join(sys.path[0], 'auxFiles', 'IOFnc.py')\n",
    "\n",
    "%run {auxFnc}\n",
    "%run {phantomsFncnc}\n",
    "%run {IOFnc}"
   ]
  },
  {
   "cell_type": "code",
   "execution_count": 19,
   "metadata": {},
   "outputs": [],
   "source": [
    "N0 = 4000000 # photons/mm2\n",
    "n = 100 * 100 # number of points of the quantum image\n",
    "pointSize = 0.1 # size of \"each point\" in the quantum image"
   ]
  },
  {
   "cell_type": "markdown",
   "metadata": {},
   "source": [
    "#### Creating the image, based on uniform distribution of incident photons"
   ]
  },
  {
   "cell_type": "code",
   "execution_count": 26,
   "metadata": {},
   "outputs": [],
   "source": [
    "imgData = createQuantumImage(N0, n, pointSize)"
   ]
  },
  {
   "cell_type": "code",
   "execution_count": 21,
   "metadata": {},
   "outputs": [
    {
     "name": "stdout",
     "output_type": "stream",
     "text": [
      "40000.00000000001\n"
     ]
    }
   ],
   "source": [
    "N1 = np.mean(imgData)\n",
    "print(N1)"
   ]
  },
  {
   "cell_type": "code",
   "execution_count": 85,
   "metadata": {},
   "outputs": [
    {
     "name": "stdout",
     "output_type": "stream",
     "text": [
      "(100, 100)\n"
     ]
    }
   ],
   "source": [
    "# insertNoduleQImage() -> Insert a nodule in the center of an homogeneous quantum image.\n",
    "# noduleSize -> Ratio between the size of the nodule and the size of a point in the quantum image.\n",
    "# noduleContrast -> Nodule contrast in %\n",
    "noduleSize= 10\n",
    "noduleContrast= 1 # Means 1%\n",
    "imgNodule= insertNoduleQImage(imgData, noduleSize, noduleContrast)"
   ]
  },
  {
   "cell_type": "markdown",
   "metadata": {},
   "source": [
    "#### show images"
   ]
  },
  {
   "cell_type": "code",
   "execution_count": 86,
   "metadata": {},
   "outputs": [
    {
     "data": {
      "image/png": "[encoded data removed]",
      "text/plain": [
       "<Figure size 640x480 with 2 Axes>"
      ]
     },
     "metadata": {},
     "output_type": "display_data"
    }
   ],
   "source": [
    "plt.subplot(121)\n",
    "plt.imshow(imgData, cmap=\"gray\")\n",
    "\n",
    "plt.subplot(122)\n",
    "plt.imshow(imgNodule, cmap=\"gray\")\n",
    "plt.show()"
   ]
  }
 ],
 "metadata": {
  "kernelspec": {
   "display_name": "Python 3",
   "language": "python",
   "name": "python3"
  },
  "language_info": {
   "codemirror_mode": {
    "name": "ipython",
    "version": 3
   },
   "file_extension": ".py",
   "mimetype": "text/x-python",
   "name": "python",
   "nbconvert_exporter": "python",
   "pygments_lexer": "ipython3",
   "version": "3.11.5"
  }
 },
 "nbformat": 4,
 "nbformat_minor": 2
}
