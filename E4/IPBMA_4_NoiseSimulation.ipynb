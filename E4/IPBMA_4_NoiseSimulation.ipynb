{
 "cells": [
  {
   "cell_type": "markdown",
   "metadata": {},
   "source": [
    "# IPBMA_4:Visibility of a nodule inside a noisy image\n",
    "\n",
    "### Author: Liu Cong and Ulloa Ferrer,Leonardo"
   ]
  },
  {
   "cell_type": "code",
   "execution_count": 1,
   "metadata": {},
   "outputs": [],
   "source": [
    "import numpy as np\n",
    "import matplotlib.pyplot as plt\n",
    "import sys, os\n",
    "auxFnc = os.path.join(sys.path[0], 'auxFiles', 'auxFnc.py')\n",
    "phantomsFncnc = os.path.join(sys.path[0], 'auxFiles', 'phantomsFnc.py')\n",
    "IOFnc = os.path.join(sys.path[0], 'auxFiles', 'IOFnc.py')\n",
    "\n",
    "%run {auxFnc}\n",
    "%run {phantomsFncnc}\n",
    "%run {IOFnc}"
   ]
  },
  {
   "cell_type": "code",
   "execution_count": 2,
   "metadata": {},
   "outputs": [],
   "source": [
    "N0 = 4000000 # photons/mm2\n",
    "n = 100 * 100 # number of points of the quantum image\n",
    "pointSize = 0.1 # size of \"each point\" in the quantum image"
   ]
  },
  {
   "cell_type": "markdown",
   "metadata": {},
   "source": [
    "#### Creating the image, based on uniform distribution of incident photons"
   ]
  },
  {
   "cell_type": "code",
   "execution_count": 4,
   "metadata": {},
   "outputs": [],
   "source": [
    "imgData = createQuantumImage(N0, n, pointSize)"
   ]
  },
  {
   "cell_type": "code",
   "execution_count": 5,
   "metadata": {},
   "outputs": [
    {
     "name": "stdout",
     "output_type": "stream",
     "text": [
      "40000.3509\n"
     ]
    }
   ],
   "source": [
    "N1 = np.mean(imgData)\n",
    "print(N1)"
   ]
  }
 ],
 "metadata": {
  "kernelspec": {
   "display_name": "Python 3",
   "language": "python",
   "name": "python3"
  },
  "language_info": {
   "codemirror_mode": {
    "name": "ipython",
    "version": 3
   },
   "file_extension": ".py",
   "mimetype": "text/x-python",
   "name": "python",
   "nbconvert_exporter": "python",
   "pygments_lexer": "ipython3",
   "version": "3.11.5"
  }
 },
 "nbformat": 4,
 "nbformat_minor": 2
}
