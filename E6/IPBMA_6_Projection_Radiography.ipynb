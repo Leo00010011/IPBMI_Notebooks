{
 "cells": [
  {
   "cell_type": "markdown",
   "metadata": {},
   "source": [
    "# IPBMA_6: Projection Radiography\n",
    "### Author: Liu Cong and Ulloa Ferrer,Leonardo"
   ]
  },
  {
   "cell_type": "code",
   "execution_count": 4,
   "metadata": {},
   "outputs": [],
   "source": [
    "import numpy as np\n",
    "import matplotlib.pyplot as pyplot\n",
    "import sys, os\n",
    "\n",
    "try:\n",
    "    auxFnc = os.path.join(sys.path[0], 'auxFiles', 'auxFnc.py')\n",
    "    phantomsFnc = os.path.join(sys.path[0], 'auxFiles', 'phantomsFnc.py')\n",
    "    %run {auxFnc}\n",
    "    %run {phantomsFnc}\n",
    "except:\n",
    "    auxFnc = os.path.join('.', 'auxFiles', 'auxFnc.py')\n",
    "    phantomsFnc = os.path.join('.', 'auxFiles', 'phantomsFnc.py')\n",
    "    %run {auxFnc}\n",
    "    %run {phantomsFnc}"
   ]
  }
 ],
 "metadata": {
  "kernelspec": {
   "display_name": "Python 3",
   "language": "python",
   "name": "python3"
  },
  "language_info": {
   "codemirror_mode": {
    "name": "ipython",
    "version": 3
   },
   "file_extension": ".py",
   "mimetype": "text/x-python",
   "name": "python",
   "nbconvert_exporter": "python",
   "pygments_lexer": "ipython3",
   "version": "3.11.5"
  }
 },
 "nbformat": 4,
 "nbformat_minor": 2
}
