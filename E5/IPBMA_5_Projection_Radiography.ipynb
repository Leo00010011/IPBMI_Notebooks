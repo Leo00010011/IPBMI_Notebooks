{
 "cells": [
  {
   "cell_type": "markdown",
   "metadata": {},
   "source": [
    "## IPBMA_5: Projection Radiography\n",
    "### Author: Liu Cong and Ulloa Ferrer,Leonardo"
   ]
  },
  {
   "cell_type": "code",
   "execution_count": 12,
   "metadata": {},
   "outputs": [],
   "source": [
    "import numpy as np\n",
    "import matplotlib.pyplot as plt\n",
    "import sys, os\n",
    "\n",
    "try:\n",
    "    auxFnc = os.path.join(sys.path[0], 'auxFiles', 'auxFnc.py')\n",
    "    phantomsFnc = os.path.join(sys.path[0], 'auxFiles', 'phantomsFnc.py')\n",
    "    plotFnc = os.path.join(sys.path[0], 'auxFiles', 'plotFnc.py')\n",
    "    %run {auxFnc}\n",
    "    %run {phantomsFnc}\n",
    "    %run {plotFnc}\n",
    "except:\n",
    "    auxFnc = os.path.join('.', 'auxFiles', 'auxFnc.py')\n",
    "    phantomsFnc = os.path.join('.', 'auxFiles', 'phantomsFnc.py')\n",
    "    plotFnc = os.path.join('.', 'auxFiles', 'plotFnc.py')\n",
    "    %run {auxFnc}\n",
    "    %run {phantomsFnc}\n",
    "    %run {plotFnc}"
   ]
  },
  {
   "cell_type": "markdown",
   "metadata": {},
   "source": [
    "### Source"
   ]
  },
  {
   "cell_type": "code",
   "execution_count": 14,
   "metadata": {},
   "outputs": [
    {
     "name": "stdout",
     "output_type": "stream",
     "text": [
      "250 16.0\n"
     ]
    }
   ],
   "source": [
    "# source(kVp, N0)\n",
    "# return number of photoms (N0), efective energy (eE)\n",
    "\n",
    "kVp= 40\n",
    "I0= 250  \n",
    "N0, eE= source(kVp, I0)\n",
    "\n",
    "print(N0, eE)"
   ]
  }
 ],
 "metadata": {
  "kernelspec": {
   "display_name": "Python 3",
   "language": "python",
   "name": "python3"
  },
  "language_info": {
   "codemirror_mode": {
    "name": "ipython",
    "version": 3
   },
   "file_extension": ".py",
   "mimetype": "text/x-python",
   "name": "python",
   "nbconvert_exporter": "python",
   "pygments_lexer": "ipython3",
   "version": "3.11.5"
  }
 },
 "nbformat": 4,
 "nbformat_minor": 2
}
