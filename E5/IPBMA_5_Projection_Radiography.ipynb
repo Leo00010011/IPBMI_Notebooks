{
 "cells": [
  {
   "cell_type": "markdown",
   "metadata": {},
   "source": [
    "## IPBMA_5: Projection Radiography\n",
    "### Author: Liu Cong and Ulloa Ferrer,Leonardo"
   ]
  },
  {
   "cell_type": "code",
   "execution_count": 2,
   "metadata": {},
   "outputs": [],
   "source": [
    "import numpy as np\n",
    "import matplotlib.pyplot as plt\n",
    "import sys, os\n",
    "\n",
    "try:\n",
    "    auxFnc = os.path.join(sys.path[0], 'auxFiles', 'auxFnc.py')\n",
    "    phantomsFnc = os.path.join(sys.path[0], 'auxFiles', 'phantomsFnc.py')\n",
    "    plotFnc = os.path.join(sys.path[0], 'auxFiles', 'plotFnc.py')\n",
    "    %run {auxFnc}\n",
    "    %run {phantomsFnc}\n",
    "    %run {plotFnc}\n",
    "except:\n",
    "    auxFnc = os.path.join('.', 'auxFiles', 'auxFnc.py')\n",
    "    phantomsFnc = os.path.join('.', 'auxFiles', 'phantomsFnc.py')\n",
    "    plotFnc = os.path.join('.', 'auxFiles', 'plotFnc.py')\n",
    "    %run {auxFnc}\n",
    "    %run {phantomsFnc}\n",
    "    %run {plotFnc}"
   ]
  },
  {
   "cell_type": "code",
   "execution_count": 4,
   "metadata": {},
   "outputs": [
    {
     "ename": "FileNotFoundError",
     "evalue": "[Errno 2] No such file or directory: 'c:\\\\Users\\\\ulloa\\\\AppData\\\\Local\\\\Programs\\\\Python\\\\Python312\\\\python312.zip\\\\auxFiles\\\\coef\\\\coefAtenuacionSoft.csv'",
     "output_type": "error",
     "traceback": [
      "\u001b[1;31m---------------------------------------------------------------------------\u001b[0m",
      "\u001b[1;31mFileNotFoundError\u001b[0m                         Traceback (most recent call last)",
      "Cell \u001b[1;32mIn[4], line 4\u001b[0m\n\u001b[0;32m      1\u001b[0m edge_size \u001b[38;5;241m=\u001b[39m \u001b[38;5;241m256\u001b[39m\n\u001b[0;32m      2\u001b[0m energy \u001b[38;5;241m=\u001b[39m \u001b[38;5;241m40\u001b[39m\n\u001b[1;32m----> 4\u001b[0m phantom_nh \u001b[38;5;241m=\u001b[39m \u001b[43mcube_phantom_nh\u001b[49m\u001b[43m(\u001b[49m\u001b[43medge_size\u001b[49m\u001b[43m,\u001b[49m\u001b[43m \u001b[49m\u001b[43menergy\u001b[49m\u001b[43m)\u001b[49m\n",
      "File \u001b[1;32m~\\Miooooo\\Master\\IPBMA\\IPBMANotebooks\\IPBMI_Notebooks\\E5\\auxFiles\\phantomsFnc.py:10\u001b[0m, in \u001b[0;36mcube_phantom_nh\u001b[1;34m(edge_size, energy)\u001b[0m\n\u001b[0;32m      9\u001b[0m \u001b[38;5;28;01mdef\u001b[39;00m \u001b[38;5;21mcube_phantom_nh\u001b[39m(edge_size, energy):\n\u001b[1;32m---> 10\u001b[0m     soft_coef \u001b[38;5;241m=\u001b[39m \u001b[43mget_coef\u001b[49m\u001b[43m(\u001b[49m\u001b[38;5;241;43m4\u001b[39;49m\u001b[43m,\u001b[49m\u001b[43m \u001b[49m\u001b[43menergy\u001b[49m\u001b[43m)\u001b[49m\n\u001b[0;32m     11\u001b[0m     air_coef \u001b[38;5;241m=\u001b[39m get_coef(\u001b[38;5;241m1\u001b[39m, energy)\n\u001b[0;32m     12\u001b[0m     water_coef \u001b[38;5;241m=\u001b[39m get_coef(\u001b[38;5;241m5\u001b[39m, energy)\n",
      "File \u001b[1;32mc:\\Users\\ulloa\\Miooooo\\Master\\IPBMA\\IPBMANotebooks\\IPBMI_Notebooks\\E5\\auxFiles\\auxFnc.py:29\u001b[0m, in \u001b[0;36mget_coef\u001b[1;34m(index, energy, csv_path)\u001b[0m\n\u001b[0;32m     28\u001b[0m \u001b[38;5;28;01mdef\u001b[39;00m \u001b[38;5;21mget_coef\u001b[39m(index, energy, csv_path\u001b[38;5;241m=\u001b[39m\u001b[38;5;28;01mNone\u001b[39;00m):\n\u001b[1;32m---> 29\u001b[0m     data \u001b[38;5;241m=\u001b[39m \u001b[43mget_csv_data\u001b[49m\u001b[43m(\u001b[49m\u001b[43mindex\u001b[49m\u001b[43m,\u001b[49m\u001b[43m \u001b[49m\u001b[43mcsv_path\u001b[49m\u001b[43m)\u001b[49m\n\u001b[0;32m     30\u001b[0m     coef \u001b[38;5;241m=\u001b[39m \u001b[38;5;241m0\u001b[39m\n\u001b[0;32m     31\u001b[0m     \u001b[38;5;28;01mfor\u001b[39;00m item \u001b[38;5;129;01min\u001b[39;00m data:\n",
      "File \u001b[1;32mc:\\Users\\ulloa\\Miooooo\\Master\\IPBMA\\IPBMANotebooks\\IPBMI_Notebooks\\E5\\auxFiles\\auxFnc.py:19\u001b[0m, in \u001b[0;36mget_csv_data\u001b[1;34m(tissue_index, csv_path)\u001b[0m\n\u001b[0;32m     16\u001b[0m     csv_path \u001b[38;5;241m=\u001b[39m os\u001b[38;5;241m.\u001b[39mpath\u001b[38;5;241m.\u001b[39mjoin(\n\u001b[0;32m     17\u001b[0m         csv_path, \u001b[38;5;124m'\u001b[39m\u001b[38;5;124mcoef\u001b[39m\u001b[38;5;124m'\u001b[39m, \u001b[38;5;124m'\u001b[39m\u001b[38;5;124mcoefAtenuacion\u001b[39m\u001b[38;5;124m'\u001b[39m \u001b[38;5;241m+\u001b[39m TISSUE_LABEL[tissue_index] \u001b[38;5;241m+\u001b[39m \u001b[38;5;124m'\u001b[39m\u001b[38;5;124m.csv\u001b[39m\u001b[38;5;124m'\u001b[39m)\n\u001b[0;32m     18\u001b[0m dataArr \u001b[38;5;241m=\u001b[39m []\n\u001b[1;32m---> 19\u001b[0m \u001b[38;5;28;01mwith\u001b[39;00m \u001b[38;5;28;43mopen\u001b[39;49m\u001b[43m(\u001b[49m\u001b[43mcsv_path\u001b[49m\u001b[43m,\u001b[49m\u001b[43m \u001b[49m\u001b[38;5;124;43m'\u001b[39;49m\u001b[38;5;124;43mr\u001b[39;49m\u001b[38;5;124;43m'\u001b[39;49m\u001b[43m)\u001b[49m \u001b[38;5;28;01mas\u001b[39;00m file:\n\u001b[0;32m     20\u001b[0m     \u001b[38;5;28mnext\u001b[39m(file)\n\u001b[0;32m     21\u001b[0m     \u001b[38;5;28mnext\u001b[39m(file)\n",
      "\u001b[1;31mFileNotFoundError\u001b[0m: [Errno 2] No such file or directory: 'c:\\\\Users\\\\ulloa\\\\AppData\\\\Local\\\\Programs\\\\Python\\\\Python312\\\\python312.zip\\\\auxFiles\\\\coef\\\\coefAtenuacionSoft.csv'"
     ]
    }
   ],
   "source": [
    "edge_size = 256\n",
    "energy = 40\n",
    "\n",
    "phantom_nh = cube_phantom_nh(edge_size, energy)"
   ]
  },
  {
   "cell_type": "markdown",
   "metadata": {},
   "source": [
    "### SOURCE"
   ]
  },
  {
   "cell_type": "code",
   "execution_count": 2,
   "metadata": {},
   "outputs": [
    {
     "name": "stdout",
     "output_type": "stream",
     "text": [
      "250 16.0\n"
     ]
    }
   ],
   "source": [
    "# source(kVp, N0)\n",
    "# return number of photoms (N0), efective energy (eE)\n",
    "\n",
    "kVp= 40\n",
    "I0= 250  \n",
    "N0, eE= source(kVp, I0)\n",
    "\n",
    "print(N0, eE)"
   ]
  },
  {
   "cell_type": "markdown",
   "metadata": {},
   "source": [
    "#### CUBE PHANTOM"
   ]
  },
  {
   "cell_type": "code",
   "execution_count": 6,
   "metadata": {},
   "outputs": [
    {
     "name": "stdout",
     "output_type": "stream",
     "text": [
      "1.615228 0.0017434 1.50032\n"
     ]
    }
   ],
   "source": [
    "# OBJECT\n",
    "# phantom(size, eE)\n",
    "# return phantomData\n",
    "\n",
    "size= 256\n",
    "obj= cube_phantom_nh(size, eE)"
   ]
  },
  {
   "cell_type": "markdown",
   "metadata": {},
   "source": [
    "### QUANTUM IMAGE. FRONTAL VIEW."
   ]
  },
  {
   "cell_type": "code",
   "execution_count": 8,
   "metadata": {},
   "outputs": [
    {
     "name": "stdout",
     "output_type": "stream",
     "text": [
      "N0: 250\n",
      "obj: [[[1.50032   1.50032   1.50032   ... 0.0017434 0.0017434 0.0017434]\n",
      "  [1.50032   1.50032   1.50032   ... 0.0017434 0.0017434 0.0017434]\n",
      "  [1.50032   1.50032   1.50032   ... 0.0017434 0.0017434 0.0017434]\n",
      "  ...\n",
      "  [1.50032   1.50032   1.50032   ... 0.0017434 0.0017434 0.0017434]\n",
      "  [1.50032   1.50032   1.50032   ... 0.0017434 0.0017434 0.0017434]\n",
      "  [1.50032   1.50032   1.50032   ... 0.0017434 0.0017434 0.0017434]]\n",
      "\n",
      " [[1.50032   1.50032   1.50032   ... 0.0017434 0.0017434 0.0017434]\n",
      "  [1.50032   1.50032   1.50032   ... 0.0017434 0.0017434 0.0017434]\n",
      "  [1.50032   1.50032   1.50032   ... 0.0017434 0.0017434 0.0017434]\n",
      "  ...\n",
      "  [1.50032   1.50032   1.50032   ... 0.0017434 0.0017434 0.0017434]\n",
      "  [1.50032   1.50032   1.50032   ... 0.0017434 0.0017434 0.0017434]\n",
      "  [1.50032   1.50032   1.50032   ... 0.0017434 0.0017434 0.0017434]]\n",
      "\n",
      " [[1.50032   1.50032   1.50032   ... 0.0017434 0.0017434 0.0017434]\n",
      "  [1.50032   1.50032   1.50032   ... 0.0017434 0.0017434 0.0017434]\n",
      "  [1.50032   1.50032   1.50032   ... 0.0017434 0.0017434 0.0017434]\n",
      "  ...\n",
      "  [1.50032   1.50032   1.50032   ... 0.0017434 0.0017434 0.0017434]\n",
      "  [1.50032   1.50032   1.50032   ... 0.0017434 0.0017434 0.0017434]\n",
      "  [1.50032   1.50032   1.50032   ... 0.0017434 0.0017434 0.0017434]]\n",
      "\n",
      " ...\n",
      "\n",
      " [[1.50032   1.50032   1.50032   ... 0.0017434 0.0017434 0.0017434]\n",
      "  [1.50032   1.50032   1.50032   ... 0.0017434 0.0017434 0.0017434]\n",
      "  [1.50032   1.50032   1.50032   ... 0.0017434 0.0017434 0.0017434]\n",
      "  ...\n",
      "  [1.50032   1.50032   1.50032   ... 0.0017434 0.0017434 0.0017434]\n",
      "  [1.50032   1.50032   1.50032   ... 0.0017434 0.0017434 0.0017434]\n",
      "  [1.50032   1.50032   1.50032   ... 0.0017434 0.0017434 0.0017434]]\n",
      "\n",
      " [[1.50032   1.50032   1.50032   ... 0.0017434 0.0017434 0.0017434]\n",
      "  [1.50032   1.50032   1.50032   ... 0.0017434 0.0017434 0.0017434]\n",
      "  [1.50032   1.50032   1.50032   ... 0.0017434 0.0017434 0.0017434]\n",
      "  ...\n",
      "  [1.50032   1.50032   1.50032   ... 0.0017434 0.0017434 0.0017434]\n",
      "  [1.50032   1.50032   1.50032   ... 0.0017434 0.0017434 0.0017434]\n",
      "  [1.50032   1.50032   1.50032   ... 0.0017434 0.0017434 0.0017434]]\n",
      "\n",
      " [[1.50032   1.50032   1.50032   ... 0.0017434 0.0017434 0.0017434]\n",
      "  [1.50032   1.50032   1.50032   ... 0.0017434 0.0017434 0.0017434]\n",
      "  [1.50032   1.50032   1.50032   ... 0.0017434 0.0017434 0.0017434]\n",
      "  ...\n",
      "  [1.50032   1.50032   1.50032   ... 0.0017434 0.0017434 0.0017434]\n",
      "  [1.50032   1.50032   1.50032   ... 0.0017434 0.0017434 0.0017434]\n",
      "  [1.50032   1.50032   1.50032   ... 0.0017434 0.0017434 0.0017434]]]\n",
      "prj: frontal\n"
     ]
    }
   ],
   "source": [
    "# Interaction\n",
    "# return qImage -> Quantum Image, ideal conditions\n",
    "\n",
    "prj= 'frontal'\n",
    "qImage= interactor_PR(N0, obj, prj)"
   ]
  }
 ],
 "metadata": {
  "kernelspec": {
   "display_name": "Python 3",
   "language": "python",
   "name": "python3"
  },
  "language_info": {
   "codemirror_mode": {
    "name": "ipython",
    "version": 3
   },
   "file_extension": ".py",
   "mimetype": "text/x-python",
   "name": "python",
   "nbconvert_exporter": "python",
   "pygments_lexer": "ipython3",
   "version": "3.12.6"
  }
 },
 "nbformat": 4,
 "nbformat_minor": 2
}
