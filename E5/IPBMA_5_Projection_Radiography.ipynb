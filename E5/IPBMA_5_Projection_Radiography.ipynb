{
 "cells": [
  {
   "cell_type": "markdown",
   "metadata": {},
   "source": [
    "## IPBMA_5: Projection Radiography\n",
    "### Author: Liu Cong and Ulloa Ferrer,Leonardo"
   ]
  },
  {
   "cell_type": "code",
   "execution_count": 1,
   "metadata": {},
   "outputs": [],
   "source": [
    "import numpy as np\n",
    "import matplotlib.pyplot as plt\n",
    "import sys, os\n",
    "\n",
    "try:\n",
    "    auxFnc = os.path.join(sys.path[0], 'auxFiles', 'auxFnc.py')\n",
    "    phantomsFnc = os.path.join(sys.path[0], 'auxFiles', 'phantomsFnc.py')\n",
    "    plotFnc = os.path.join(sys.path[0], 'auxFiles', 'plotFnc.py')\n",
    "    %run {auxFnc}\n",
    "    %run {phantomsFnc}\n",
    "    %run {plotFnc}\n",
    "except:\n",
    "    auxFnc = os.path.join('.', 'auxFiles', 'auxFnc.py')\n",
    "    phantomsFnc = os.path.join('.', 'auxFiles', 'phantomsFnc.py')\n",
    "    plotFnc = os.path.join('.', 'auxFiles', 'plotFnc.py')\n",
    "    %run {auxFnc}\n",
    "    %run {phantomsFnc}\n",
    "    %run {plotFnc}"
   ]
  },
  {
   "cell_type": "code",
   "execution_count": 3,
   "metadata": {},
   "outputs": [
    {
     "name": "stdout",
     "output_type": "stream",
     "text": [
      "40.0\n",
      "0.284928\n",
      "40.0\n",
      "0.0002994\n",
      "40.0\n",
      "0.2683\n",
      "0.284928 0.0002994 0.2683\n"
     ]
    },
    {
     "data": {
      "text/plain": [
       "(256, 256, 256)"
      ]
     },
     "execution_count": 3,
     "metadata": {},
     "output_type": "execute_result"
    }
   ],
   "source": [
    "edge_size = 256\n",
    "energy = 40\n",
    "\n",
    "phantom_nh = cube_phantom_nh(edge_size, energy)\n",
    "phantom_nh.shape"
   ]
  },
  {
   "cell_type": "markdown",
   "metadata": {},
   "source": [
    "### SOURCE"
   ]
  },
  {
   "cell_type": "code",
   "execution_count": 2,
   "metadata": {},
   "outputs": [
    {
     "name": "stdout",
     "output_type": "stream",
     "text": [
      "250 16.0\n"
     ]
    }
   ],
   "source": [
    "# source(kVp, N0)\n",
    "# return number of photoms (N0), efective energy (eE)\n",
    "\n",
    "kVp= 40\n",
    "I0= 250  \n",
    "N0, eE= source(kVp, I0)\n",
    "\n",
    "print(N0, eE)"
   ]
  },
  {
   "cell_type": "markdown",
   "metadata": {},
   "source": [
    "#### CUBE PHANTOM"
   ]
  },
  {
   "cell_type": "code",
   "execution_count": 6,
   "metadata": {},
   "outputs": [
    {
     "name": "stdout",
     "output_type": "stream",
     "text": [
      "1.615228 0.0017434 1.50032\n"
     ]
    }
   ],
   "source": [
    "# OBJECT\n",
    "# phantom(size, eE)\n",
    "# return phantomData\n",
    "\n",
    "size= 256\n",
    "obj= cube_phantom_nh(size, eE)"
   ]
  },
  {
   "cell_type": "markdown",
   "metadata": {},
   "source": [
    "### QUANTUM IMAGE. FRONTAL VIEW."
   ]
  },
  {
   "cell_type": "code",
   "execution_count": 8,
   "metadata": {},
   "outputs": [
    {
     "name": "stdout",
     "output_type": "stream",
     "text": [
      "N0: 250\n",
      "obj: [[[1.50032   1.50032   1.50032   ... 0.0017434 0.0017434 0.0017434]\n",
      "  [1.50032   1.50032   1.50032   ... 0.0017434 0.0017434 0.0017434]\n",
      "  [1.50032   1.50032   1.50032   ... 0.0017434 0.0017434 0.0017434]\n",
      "  ...\n",
      "  [1.50032   1.50032   1.50032   ... 0.0017434 0.0017434 0.0017434]\n",
      "  [1.50032   1.50032   1.50032   ... 0.0017434 0.0017434 0.0017434]\n",
      "  [1.50032   1.50032   1.50032   ... 0.0017434 0.0017434 0.0017434]]\n",
      "\n",
      " [[1.50032   1.50032   1.50032   ... 0.0017434 0.0017434 0.0017434]\n",
      "  [1.50032   1.50032   1.50032   ... 0.0017434 0.0017434 0.0017434]\n",
      "  [1.50032   1.50032   1.50032   ... 0.0017434 0.0017434 0.0017434]\n",
      "  ...\n",
      "  [1.50032   1.50032   1.50032   ... 0.0017434 0.0017434 0.0017434]\n",
      "  [1.50032   1.50032   1.50032   ... 0.0017434 0.0017434 0.0017434]\n",
      "  [1.50032   1.50032   1.50032   ... 0.0017434 0.0017434 0.0017434]]\n",
      "\n",
      " [[1.50032   1.50032   1.50032   ... 0.0017434 0.0017434 0.0017434]\n",
      "  [1.50032   1.50032   1.50032   ... 0.0017434 0.0017434 0.0017434]\n",
      "  [1.50032   1.50032   1.50032   ... 0.0017434 0.0017434 0.0017434]\n",
      "  ...\n",
      "  [1.50032   1.50032   1.50032   ... 0.0017434 0.0017434 0.0017434]\n",
      "  [1.50032   1.50032   1.50032   ... 0.0017434 0.0017434 0.0017434]\n",
      "  [1.50032   1.50032   1.50032   ... 0.0017434 0.0017434 0.0017434]]\n",
      "\n",
      " ...\n",
      "\n",
      " [[1.50032   1.50032   1.50032   ... 0.0017434 0.0017434 0.0017434]\n",
      "  [1.50032   1.50032   1.50032   ... 0.0017434 0.0017434 0.0017434]\n",
      "  [1.50032   1.50032   1.50032   ... 0.0017434 0.0017434 0.0017434]\n",
      "  ...\n",
      "  [1.50032   1.50032   1.50032   ... 0.0017434 0.0017434 0.0017434]\n",
      "  [1.50032   1.50032   1.50032   ... 0.0017434 0.0017434 0.0017434]\n",
      "  [1.50032   1.50032   1.50032   ... 0.0017434 0.0017434 0.0017434]]\n",
      "\n",
      " [[1.50032   1.50032   1.50032   ... 0.0017434 0.0017434 0.0017434]\n",
      "  [1.50032   1.50032   1.50032   ... 0.0017434 0.0017434 0.0017434]\n",
      "  [1.50032   1.50032   1.50032   ... 0.0017434 0.0017434 0.0017434]\n",
      "  ...\n",
      "  [1.50032   1.50032   1.50032   ... 0.0017434 0.0017434 0.0017434]\n",
      "  [1.50032   1.50032   1.50032   ... 0.0017434 0.0017434 0.0017434]\n",
      "  [1.50032   1.50032   1.50032   ... 0.0017434 0.0017434 0.0017434]]\n",
      "\n",
      " [[1.50032   1.50032   1.50032   ... 0.0017434 0.0017434 0.0017434]\n",
      "  [1.50032   1.50032   1.50032   ... 0.0017434 0.0017434 0.0017434]\n",
      "  [1.50032   1.50032   1.50032   ... 0.0017434 0.0017434 0.0017434]\n",
      "  ...\n",
      "  [1.50032   1.50032   1.50032   ... 0.0017434 0.0017434 0.0017434]\n",
      "  [1.50032   1.50032   1.50032   ... 0.0017434 0.0017434 0.0017434]\n",
      "  [1.50032   1.50032   1.50032   ... 0.0017434 0.0017434 0.0017434]]]\n",
      "prj: frontal\n"
     ]
    }
   ],
   "source": [
    "# Interaction\n",
    "# return qImage -> Quantum Image, ideal conditions\n",
    "\n",
    "prj= 'frontal'\n",
    "qImage= interactor_PR(N0, obj, prj)"
   ]
  }
 ],
 "metadata": {
  "kernelspec": {
   "display_name": "Python 3",
   "language": "python",
   "name": "python3"
  },
  "language_info": {
   "codemirror_mode": {
    "name": "ipython",
    "version": 3
   },
   "file_extension": ".py",
   "mimetype": "text/x-python",
   "name": "python",
   "nbconvert_exporter": "python",
   "pygments_lexer": "ipython3",
   "version": "3.12.6"
  }
 },
 "nbformat": 4,
 "nbformat_minor": 2
}
