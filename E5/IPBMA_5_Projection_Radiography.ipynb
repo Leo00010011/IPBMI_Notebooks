{
 "cells": [
  {
   "cell_type": "markdown",
   "metadata": {},
   "source": [
    "## IPBMA_5: Projection Radiography\n",
    "### Author: Liu Cong and Ulloa Ferrer,Leonardo"
   ]
  },
  {
   "cell_type": "code",
   "execution_count": 107,
   "metadata": {},
   "outputs": [],
   "source": [
    "import numpy as np\n",
    "import matplotlib.pyplot as pyplot\n",
    "import sys, os\n",
    "\n",
    "try:\n",
    "    auxFnc = os.path.join(sys.path[0], 'auxFiles', 'auxFnc.py')\n",
    "    phantomsFnc = os.path.join(sys.path[0], 'auxFiles', 'phantomsFnc.py')\n",
    "    plotFnc = os.path.join(sys.path[0], 'auxFiles', 'plotFnc.py')\n",
    "    %run {auxFnc}\n",
    "    %run {phantomsFnc}\n",
    "    %run {plotFnc}\n",
    "except:\n",
    "    auxFnc = os.path.join('.', 'auxFiles', 'auxFnc.py')\n",
    "    phantomsFnc = os.path.join('.', 'auxFiles', 'phantomsFnc.py')\n",
    "    plotFnc = os.path.join('.', 'auxFiles', 'plotFnc.py')\n",
    "    %run {auxFnc}\n",
    "    %run {phantomsFnc}\n",
    "    %run {plotFnc}"
   ]
  },
  {
   "cell_type": "code",
   "execution_count": 3,
   "metadata": {},
   "outputs": [
    {
     "name": "stdout",
     "output_type": "stream",
     "text": [
      "40.0\n",
      "0.284928\n",
      "40.0\n",
      "0.0002994\n",
      "40.0\n",
      "0.2683\n",
      "0.284928 0.0002994 0.2683\n"
     ]
    },
    {
     "data": {
      "text/plain": [
       "(256, 256, 256)"
      ]
     },
     "execution_count": 3,
     "metadata": {},
     "output_type": "execute_result"
    }
   ],
   "source": [
    "edge_size = 256\n",
    "energy = 40\n",
    "\n",
    "phantom_nh = cube_phantom_nh(edge_size, energy)\n",
    "phantom_nh.shape"
   ]
  },
  {
   "cell_type": "markdown",
   "metadata": {},
   "source": [
    "### SOURCE"
   ]
  },
  {
   "cell_type": "code",
   "execution_count": 108,
   "metadata": {},
   "outputs": [
    {
     "name": "stdout",
     "output_type": "stream",
     "text": [
      "250 16.0\n"
     ]
    }
   ],
   "source": [
    "# source(kVp, N0)\n",
    "# return number of photoms (N0), efective energy (eE)\n",
    "\n",
    "kVp= 40\n",
    "I0= 250\n",
    "N0, eE= source(kVp, I0)\n",
    "\n",
    "print(N0, eE)"
   ]
  },
  {
   "cell_type": "markdown",
   "metadata": {},
   "source": [
    "#### CUBE PHANTOM"
   ]
  },
  {
   "cell_type": "code",
   "execution_count": 109,
   "metadata": {},
   "outputs": [
    {
     "name": "stdout",
     "output_type": "stream",
     "text": [
      "1.615228 0.0017434 1.50032\n"
     ]
    }
   ],
   "source": [
    "# OBJECT\n",
    "# phantom(size, eE)\n",
    "# return phantomData\n",
    "\n",
    "size= 256\n",
    "obj= cube_phantom_nh(size, eE)"
   ]
  },
  {
   "cell_type": "markdown",
   "metadata": {},
   "source": [
    "### QUANTUM IMAGE. FRONTAL VIEW."
   ]
  },
  {
   "cell_type": "markdown",
   "metadata": {},
   "source": [
    "$N_0e^{-\\mu (x+z)} = N_0e^{-\\mu x}e^{-\\mu z}$"
   ]
  },
  {
   "cell_type": "code",
   "execution_count": 114,
   "metadata": {},
   "outputs": [
    {
     "name": "stdout",
     "output_type": "stream",
     "text": [
      "12726.101026376484\n"
     ]
    }
   ],
   "source": [
    "print(N0 * np.exp(-1.615228)*256)"
   ]
  },
  {
   "cell_type": "code",
   "execution_count": 111,
   "metadata": {},
   "outputs": [
    {
     "name": "stdout",
     "output_type": "stream",
     "text": [
      "[[192.2641152 192.2641152 192.2641152 ... 192.2641152 192.2641152\n",
      "  192.2641152]\n",
      " [192.2641152 192.2641152 192.2641152 ... 192.2641152 192.2641152\n",
      "  192.2641152]\n",
      " [192.2641152 192.2641152 192.2641152 ... 192.2641152 192.2641152\n",
      "  192.2641152]\n",
      " ...\n",
      " [192.2641152 192.2641152 192.2641152 ... 192.2641152 192.2641152\n",
      "  192.2641152]\n",
      " [192.2641152 192.2641152 192.2641152 ... 192.2641152 192.2641152\n",
      "  192.2641152]\n",
      " [192.2641152 192.2641152 192.2641152 ... 192.2641152 192.2641152\n",
      "  192.2641152]]\n",
      "[[2.02738241e-79 2.02738241e-79 2.02738241e-79 ... 2.02738241e-79\n",
      "  2.02738241e-79 2.02738241e-79]\n",
      " [2.02738241e-79 2.02738241e-79 2.02738241e-79 ... 2.02738241e-79\n",
      "  2.02738241e-79 2.02738241e-79]\n",
      " [2.02738241e-79 2.02738241e-79 2.02738241e-79 ... 2.02738241e-79\n",
      "  2.02738241e-79 2.02738241e-79]\n",
      " ...\n",
      " [2.02738241e-79 2.02738241e-79 2.02738241e-79 ... 2.02738241e-79\n",
      "  2.02738241e-79 2.02738241e-79]\n",
      " [2.02738241e-79 2.02738241e-79 2.02738241e-79 ... 2.02738241e-79\n",
      "  2.02738241e-79 2.02738241e-79]\n",
      " [2.02738241e-79 2.02738241e-79 2.02738241e-79 ... 2.02738241e-79\n",
      "  2.02738241e-79 2.02738241e-79]]\n"
     ]
    }
   ],
   "source": [
    "# Interaction\n",
    "# return qImage -> Quantum Image, ideal conditions\n",
    "\n",
    "prj= 'frontal'\n",
    "# prj = 'lateral'\n",
    "qImage= interactor_PR(N0, obj, prj)\n",
    "\n",
    "print(qImage)"
   ]
  },
  {
   "cell_type": "code",
   "execution_count": 112,
   "metadata": {},
   "outputs": [
    {
     "data": {
      "image/png": "[encoded data removed]",
      "text/plain": [
       "<Figure size 640x480 with 1 Axes>"
      ]
     },
     "metadata": {},
     "output_type": "display_data"
    }
   ],
   "source": [
    "pyplot.imshow(qImage, cmap=\"gray\")\n",
    "pyplot.show()"
   ]
  },
  {
   "cell_type": "code",
   "execution_count": 113,
   "metadata": {},
   "outputs": [
    {
     "data": {
      "image/png": "[encoded data removed]",
      "text/plain": [
       "<Figure size 640x480 with 1 Axes>"
      ]
     },
     "metadata": {},
     "output_type": "display_data"
    }
   ],
   "source": [
    "plotLineH(qImage, 128)"
   ]
  },
  {
   "cell_type": "code",
   "execution_count": 106,
   "metadata": {},
   "outputs": [
    {
     "name": "stdout",
     "output_type": "stream",
     "text": [
      "Number of Photons (From the source): 16384000\n",
      "9.964990032392736e-75\n"
     ]
    },
    {
     "ename": "ValueError",
     "evalue": "Unknown format code 'd' for object of type 'float'",
     "output_type": "error",
     "traceback": [
      "\u001b[0;31m---------------------------------------------------------------------------\u001b[0m",
      "\u001b[0;31mValueError\u001b[0m                                Traceback (most recent call last)",
      "Cell \u001b[0;32mIn[106], line 8\u001b[0m\n\u001b[1;32m      6\u001b[0m nQI\u001b[38;5;241m=\u001b[39m getNumberPhotons(qImage)\n\u001b[1;32m      7\u001b[0m \u001b[38;5;28mprint\u001b[39m(nQI)\n\u001b[0;32m----> 8\u001b[0m \u001b[38;5;28mprint\u001b[39m(\u001b[38;5;124mf\u001b[39m\u001b[38;5;124m'\u001b[39m\u001b[38;5;124mNumber of Photons (Quantum image): \u001b[39m\u001b[38;5;132;01m{\u001b[39;00mnQI\u001b[38;5;132;01m:\u001b[39;00m\u001b[38;5;124md\u001b[39m\u001b[38;5;132;01m}\u001b[39;00m\u001b[38;5;124m'\u001b[39m)\n\u001b[1;32m     10\u001b[0m \u001b[38;5;28;01massert\u001b[39;00m nSI \u001b[38;5;241m>\u001b[39m nQI, \u001b[38;5;124m\"\u001b[39m\u001b[38;5;124mSomething wrong happens\u001b[39m\u001b[38;5;124m\"\u001b[39m\n",
      "\u001b[0;31mValueError\u001b[0m: Unknown format code 'd' for object of type 'float'"
     ]
    }
   ],
   "source": [
    "# Get Number of Photoms\n",
    "\n",
    "nSI= N0*size*size\n",
    "print(f'Number of Photons (From the source): {nSI:d}')\n",
    "\n",
    "nQI= getNumberPhotons(qImage)\n",
    "print(nQI)\n",
    "print(f'Number of Photons (Quantum image): {nQI:d}')\n",
    "\n",
    "assert nSI > nQI, \"Something wrong happens\""
   ]
  }
 ],
 "metadata": {
  "kernelspec": {
   "display_name": "Python 3",
   "language": "python",
   "name": "python3"
  },
  "language_info": {
   "codemirror_mode": {
    "name": "ipython",
    "version": 3
   },
   "file_extension": ".py",
   "mimetype": "text/x-python",
   "name": "python",
   "nbconvert_exporter": "python",
   "pygments_lexer": "ipython3",
   "version": "3.12.6"
  }
 },
 "nbformat": 4,
 "nbformat_minor": 2
}
